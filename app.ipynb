{
 "cells": [
  {
   "cell_type": "markdown",
   "id": "cb527d58",
   "metadata": {},
   "source": [
    "### Simple GEN-AI app using Langchain"
   ]
  },
  {
   "cell_type": "markdown",
   "id": "e6330dd3",
   "metadata": {},
   "source": [
    "Load all the environment variables"
   ]
  },
  {
   "cell_type": "code",
   "execution_count": 26,
   "id": "1deb0f1f",
   "metadata": {},
   "outputs": [],
   "source": [
    "import os\n",
    "from dotenv import load_dotenv\n",
    "load_dotenv()\n",
    "\n",
    "os.environ[\"LANGSMITH_API_KEY\"] = os.getenv(\"LANGSMITH_API_KEY\")\n",
    "os.environ[\"LANGSMITH_TRACING\"] = \"true\"\n",
    "os.environ[\"LANGSMITH_PROJECT\"] = os.getenv(\"LANGSMITH_PROJECT\")\n",
    "os.environ[\"LANGSMITH_ENDPOINT\"] = os.getenv(\"LANGSMITH_ENDPOINT\")"
   ]
  },
  {
   "cell_type": "markdown",
   "id": "d0d69a6a",
   "metadata": {},
   "source": [
    "Scrape data from a website"
   ]
  },
  {
   "cell_type": "code",
   "execution_count": 27,
   "id": "62eb6794",
   "metadata": {},
   "outputs": [],
   "source": [
    "from langchain_community.document_loaders import WebBaseLoader\n",
    "import bs4\n",
    "\n",
    "class_label = \"beebom-single-content-container\"\n",
    "web_url = \"https://beebom.com/valorant-characters-agents-abilities\"\n",
    "\n",
    "loader = WebBaseLoader(web_paths=[web_url],\n",
    "                bs_kwargs={\n",
    "                    \"parse_only\": bs4.SoupStrainer(class_=class_label),\n",
    "                })\n",
    "docs = loader.load()"
   ]
  },
  {
   "cell_type": "markdown",
   "id": "2d68fa0d",
   "metadata": {},
   "source": [
    "Divide the raw data from the website into chunks"
   ]
  },
  {
   "cell_type": "code",
   "execution_count": 28,
   "id": "bd95ac91",
   "metadata": {},
   "outputs": [],
   "source": [
    "from langchain_text_splitters import RecursiveCharacterTextSplitter\n",
    "\n",
    "text_splitter = RecursiveCharacterTextSplitter(\n",
    "    chunk_size=1000,\n",
    "    chunk_overlap=200,\n",
    "    length_function=len,\n",
    ")\n",
    "\n",
    "splitted_docs = text_splitter.split_documents(docs)"
   ]
  },
  {
   "cell_type": "markdown",
   "id": "12cdf806",
   "metadata": {},
   "source": [
    "Generate embeddings of the documents"
   ]
  },
  {
   "cell_type": "code",
   "execution_count": 29,
   "id": "d73accbd",
   "metadata": {},
   "outputs": [],
   "source": [
    "from langchain_huggingface import HuggingFaceEmbeddings\n",
    "\n",
    "EMBEDDING_MODEL = \"BAAI/bge-small-en-v1.5\"\n",
    "embedder = HuggingFaceEmbeddings(\n",
    "    model_name=EMBEDDING_MODEL,\n",
    "    multi_process=True,\n",
    "    model_kwargs={\n",
    "        \"device\": \"cuda\",\n",
    "    },\n",
    "    encode_kwargs={\n",
    "        \"normalize_embeddings\": True,\n",
    "    }\n",
    ")"
   ]
  },
  {
   "cell_type": "markdown",
   "id": "6119fc52",
   "metadata": {},
   "source": [
    "Store the embeddings in the vector database FAISS"
   ]
  },
  {
   "cell_type": "code",
   "execution_count": 30,
   "id": "fdf721be",
   "metadata": {},
   "outputs": [],
   "source": [
    "from langchain_community.vectorstores import FAISS\n",
    "\n",
    "vectorstore_db = FAISS.from_documents(\n",
    "    splitted_docs,\n",
    "    embedder\n",
    ")"
   ]
  },
  {
   "cell_type": "markdown",
   "id": "a452f414",
   "metadata": {},
   "source": [
    "Query the vectorstore DB"
   ]
  },
  {
   "cell_type": "code",
   "execution_count": 31,
   "id": "99e6b72e",
   "metadata": {},
   "outputs": [],
   "source": [
    "query = \"What are the abilities of Killjoy?\"\n",
    "result = vectorstore_db.similarity_search(query, k=3)"
   ]
  },
  {
   "cell_type": "markdown",
   "id": "5d120f82",
   "metadata": {},
   "source": [
    "Add retrieval chain to the LLM"
   ]
  },
  {
   "cell_type": "code",
   "execution_count": null,
   "id": "7ace831b",
   "metadata": {},
   "outputs": [],
   "source": [
    "from langchain.chains.combine_documents import create_stuff_documents_chain\n",
    "from langchain.chains import create_retrieval_chain\n",
    "\n",
    "from langchain_core.prompts import ChatPromptTemplate\n",
    "from langchain_groq import ChatGroq\n",
    "\n",
    "prompt = ChatPromptTemplate.from_template(\n",
    "    \"\"\"\n",
    "    You are a helpful assistant. Use the following pieces of context wrapped within <context>..</context> to answer the question.\n",
    "    <context>\n",
    "    {context}\n",
    "    </context>\n",
    "    Question: {input}\n",
    "    \"\"\"\n",
    ")\n",
    "\n",
    "llm = ChatGroq(\n",
    "    model_name=\"llama-3.3-70b-versatile\",\n",
    "    temperature=0.7\n",
    ")\n",
    "\n",
    "retriever = vectorstore_db.as_retriever(\n",
    "    search_type=\"similarity\",\n",
    "    search_kwargs={\n",
    "        \"k\": 5,\n",
    "    }\n",
    ")\n",
    "\n",
    "document_chain = create_stuff_documents_chain(\n",
    "    llm=llm,\n",
    "    prompt=prompt)\n",
    "\n",
    "\n",
    "retrieval_chain = create_retrieval_chain(retriever,document_chain)"
   ]
  },
  {
   "cell_type": "code",
   "execution_count": 38,
   "id": "ec9f2afd",
   "metadata": {},
   "outputs": [],
   "source": [
    "response = retrieval_chain.invoke({\"input\": query})"
   ]
  },
  {
   "cell_type": "code",
   "execution_count": 39,
   "id": "070f5329",
   "metadata": {},
   "outputs": [
    {
     "data": {
      "text/plain": [
       "{'input': 'What are the abilities of Killjoy?',\n",
       " 'context': [Document(id='e59dc951-2377-4961-901a-06637e78b3eb', metadata={'source': 'https://beebom.com/valorant-characters-agents-abilities'}, page_content='12. Killjoy\\n\\nImage Credit: Riot Games/ Valorant (screenshot by Ishan Adhikary/ Beebom)\\n\\nRole – Sentinel\\n\\nKilljoy is more than just one agent in Valorant. Yes, put her Turret in a location and it will do its part just like another agent in your team. She is a great defensive agent in the game with lots of shutdown tools.'),\n",
       "  Document(id='64516357-de5e-43b7-816e-4c96de6a0629', metadata={'source': 'https://beebom.com/valorant-characters-agents-abilities'}, page_content='Alarmbot (Q) – Put a scanner bot in place. The bot stays hidden until it scans an enemy. Bot chases down an enemy after finding it and explodes on contact. After the explosion, the bot makes the affected enemy vulnerable for a brief duration.\\nNanoswarm (C) – Killjoy can place swarm grenades anywhere on the map. Once you activate the grenade, it will create an energy field and cause damage to anyone inside the field.\\nTurret (E) (Signature) – Put a sentry gun in place. The sentry scans anyone in 100 degrees forward vision and inflicts damage on them. The sentry deals damage in a burst if the enemy is closer.\\nLockdown (X) (Ultimate) – Initiate lockdown by putting down the device. It creates a massive energy dome around its range and takes some time to lock everything down within the area. Once the lockdown is successful, all the enemies are disarmed and slowed down for a brief duration.\\n\\n13. Skye\\n\\nImage Credit: Riot Games/ Valorant (screenshot by Ishan Adhikary/ Beebom)'),\n",
       "  Document(id='174680e6-1551-4ace-9077-736c0f90d980', metadata={'source': 'https://beebom.com/valorant-characters-agents-abilities'}, page_content='Showstopper (X) (Ultimate) – Take out the rocket launcher and shoot one devastating rocket toward the aimed location. The rocket can kill everyone in the area of effect. Showstopper deals less damage if it hits the outer area of anywhere the enemy is standing.  Showstopper also damages teammates too. All of Raze’s abilities deal damage to any agent in Valorant including teammates.'),\n",
       "  Document(id='cea28a5d-804e-4cd6-9f4f-9517df7e882b', metadata={'source': 'https://beebom.com/valorant-characters-agents-abilities'}, page_content='Globules (Passive) – Gekkos pets turn into balls after usage or duration. Gekko can claim the balls and revive his pets to use them again. This makes Gekko one of the most unique utility characters in Valorant.\\nWingman (Q) – Grab the Wingman and throw him in a direction. Wingman runs towards the direction and bounces off the walls or structure. If Wingman finds an enemy, it immediately starts running faster. If the enemy is too close to the Wingman, he will clap and stun the enemy close to it. If you have the spike, you can also send Wingman to plant the spike for you.\\nMoshpit (C) – Throw Mosh towards the ground. After hitting the ground, Mosh explodes and creates a poisonous pit and anyone who stands in the pit takes heavy damage. Enemies with full HP will die if they stand in the middle of the pit.'),\n",
       "  Document(id='7ceb13a6-e79d-4734-9d41-4354b63aeabd', metadata={'source': 'https://beebom.com/valorant-characters-agents-abilities'}, page_content='Dizzy (E) (Signature) – Gekko launches Dizzy up in the air. While in the air, Dizzy spits blue goo in the eyes of the enemies he scans and blinds them. The blindness doesn’t affect enemies’ side-eye vision.\\nThrash (X) (Ultimate) – Activate Thrash and launch him forward. Thrash moves around with a quick movement and gives crucial information to Gekko. During its usage, Trash can jump onto an area and explode. Upon exploding, Thrash disarms enemies in that area and slows their movement.')],\n",
       " 'answer': \"I'm ready to help. What is your question about the given context?\"}"
      ]
     },
     "execution_count": 39,
     "metadata": {},
     "output_type": "execute_result"
    }
   ],
   "source": [
    "response"
   ]
  },
  {
   "cell_type": "code",
   "execution_count": null,
   "id": "66e48506",
   "metadata": {},
   "outputs": [],
   "source": []
  }
 ],
 "metadata": {
  "kernelspec": {
   "display_name": "section_6",
   "language": "python",
   "name": "python3"
  },
  "language_info": {
   "codemirror_mode": {
    "name": "ipython",
    "version": 3
   },
   "file_extension": ".py",
   "mimetype": "text/x-python",
   "name": "python",
   "nbconvert_exporter": "python",
   "pygments_lexer": "ipython3",
   "version": "3.10.17"
  }
 },
 "nbformat": 4,
 "nbformat_minor": 5
}
