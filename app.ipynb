{
 "cells": [
  {
   "cell_type": "markdown",
   "id": "cb527d58",
   "metadata": {},
   "source": [
    "### Simple GEN-AI app using Langchain"
   ]
  },
  {
   "cell_type": "markdown",
   "id": "e6330dd3",
   "metadata": {},
   "source": [
    "Load all the environment variables"
   ]
  },
  {
   "cell_type": "code",
   "execution_count": 1,
   "id": "1deb0f1f",
   "metadata": {},
   "outputs": [],
   "source": [
    "import os\n",
    "from dotenv import load_dotenv\n",
    "load_dotenv()\n",
    "\n",
    "os.environ[\"LANGSMITH_API_KEY\"] = os.getenv(\"LANGSMITH_API_KEY\")\n",
    "os.environ[\"LANGSMITH_TRACING\"] = \"true\"\n",
    "os.environ[\"LANGSMITH_PROJECT\"] = os.getenv(\"LANGSMITH_PROJECT\")\n",
    "os.environ[\"LANGSMITH_ENDPOINT\"] = os.getenv(\"LANGSMITH_ENDPOINT\")"
   ]
  },
  {
   "cell_type": "markdown",
   "id": "d0d69a6a",
   "metadata": {},
   "source": [
    "Scrape data from a website"
   ]
  },
  {
   "cell_type": "code",
   "execution_count": 2,
   "id": "62eb6794",
   "metadata": {},
   "outputs": [
    {
     "name": "stderr",
     "output_type": "stream",
     "text": [
      "USER_AGENT environment variable not set, consider setting it to identify your requests.\n"
     ]
    }
   ],
   "source": [
    "from langchain_community.document_loaders import WebBaseLoader, TextLoader\n",
    "import bs4\n",
    "\n",
    "class_label = \"beebom-single-content-container\"\n",
    "web_url = \"https://beebom.com/valorant-characters-agents-abilities\"\n",
    "\n",
    "loader = WebBaseLoader(web_paths=[web_url],\n",
    "                bs_kwargs={\n",
    "                    \"parse_only\": bs4.SoupStrainer(class_=class_label),\n",
    "                })\n",
    "docs = loader.load()\n",
    "\n",
    "text_loader = TextLoader(\"data/lore.txt\")\n",
    "text_docs = text_loader.load()\n",
    "\n",
    "docs.extend(text_docs)"
   ]
  },
  {
   "cell_type": "markdown",
   "id": "2d68fa0d",
   "metadata": {},
   "source": [
    "Divide the raw data from the website into chunks"
   ]
  },
  {
   "cell_type": "code",
   "execution_count": null,
   "id": "bd95ac91",
   "metadata": {},
   "outputs": [],
   "source": [
    "from langchain_text_splitters import RecursiveCharacterTextSplitter\n",
    "\n",
    "text_splitter = RecursiveCharacterTextSplitter(\n",
    "    chunk_size=2000,\n",
    "    chunk_overlap=300,\n",
    "    length_function=len,\n",
    ")\n",
    "\n",
    "splitted_docs = text_splitter.split_documents(docs)"
   ]
  },
  {
   "cell_type": "markdown",
   "id": "12cdf806",
   "metadata": {},
   "source": [
    "Generate embeddings of the documents"
   ]
  },
  {
   "cell_type": "code",
   "execution_count": 16,
   "id": "d73accbd",
   "metadata": {},
   "outputs": [],
   "source": [
    "from langchain_huggingface import HuggingFaceEmbeddings\n",
    "\n",
    "EMBEDDING_MODEL = \"BAAI/bge-small-en-v1.5\"\n",
    "embedder = HuggingFaceEmbeddings(\n",
    "    model_name=EMBEDDING_MODEL,\n",
    "    multi_process=True,\n",
    "    model_kwargs={\n",
    "        \"device\": \"cuda\",\n",
    "    },\n",
    "    encode_kwargs={\n",
    "        \"normalize_embeddings\": True,\n",
    "    }\n",
    ")"
   ]
  },
  {
   "cell_type": "markdown",
   "id": "6119fc52",
   "metadata": {},
   "source": [
    "Store the embeddings in the vector database FAISS"
   ]
  },
  {
   "cell_type": "code",
   "execution_count": null,
   "id": "fdf721be",
   "metadata": {},
   "outputs": [],
   "source": [
    "from langchain_community.vectorstores import FAISS\n",
    "\n",
    "vectorstore_db = FAISS.from_documents(\n",
    "    splitted_docs,\n",
    "    embedder\n",
    ")\n"
   ]
  },
  {
   "cell_type": "markdown",
   "id": "a452f414",
   "metadata": {},
   "source": [
    "Query the vectorstore DB"
   ]
  },
  {
   "cell_type": "code",
   "execution_count": 18,
   "id": "99e6b72e",
   "metadata": {},
   "outputs": [],
   "source": [
    "query = \"How did the valorant agents get their powers?\"\n",
    "result = vectorstore_db.similarity_search(query, k=3)"
   ]
  },
  {
   "cell_type": "markdown",
   "id": "5d120f82",
   "metadata": {},
   "source": [
    "Add retrieval chain to the LLM"
   ]
  },
  {
   "cell_type": "code",
   "execution_count": 19,
   "id": "7ace831b",
   "metadata": {},
   "outputs": [],
   "source": [
    "from langchain.chains.combine_documents import create_stuff_documents_chain\n",
    "from langchain.chains import create_retrieval_chain\n",
    "\n",
    "from langchain_core.prompts import ChatPromptTemplate\n",
    "from langchain_groq import ChatGroq\n",
    "\n",
    "prompt = ChatPromptTemplate.from_template(\n",
    "    \"\"\"\n",
    "    You are a helpful assistant. Use the following pieces of context wrapped within <context>..</context> to answer the question. If you can't answer the question based on the given context, just say that you don't know. Do not try to make up an answer.\n",
    "    <context>\n",
    "    {context}\n",
    "    </context>\n",
    "    Question: {input}\n",
    "    \"\"\"\n",
    ")\n",
    "\n",
    "llm = ChatGroq(\n",
    "    model_name=\"llama-3.3-70b-versatile\",\n",
    "    temperature=0.7\n",
    ")\n",
    "\n",
    "retriever = vectorstore_db.as_retriever(\n",
    "    search_type=\"similarity\",\n",
    "    search_kwargs={\n",
    "        \"k\": 5,\n",
    "    }\n",
    ")\n",
    "\n",
    "# Normal way of making a chain\n",
    "\n",
    "# document_chain = create_stuff_documents_chain(\n",
    "#     llm=llm,\n",
    "#     prompt=prompt)\n",
    "\n",
    "\n",
    "# retrieval_chain = create_retrieval_chain(retriever,document_chain)\n",
    "\n",
    "# using LCEL\n",
    "# import runnable\n",
    "from langchain_core.runnables import RunnableParallel, RunnablePassthrough\n",
    "from langchain_core.output_parsers import StrOutputParser\n",
    "\n",
    "\n",
    "context_info = RunnableParallel({\n",
    "    \"context\": retriever,\n",
    "    \"input\": RunnablePassthrough()\n",
    "})\n",
    "\n",
    "chain = context_info | prompt | llm | StrOutputParser()"
   ]
  },
  {
   "cell_type": "code",
   "execution_count": 20,
   "id": "ec9f2afd",
   "metadata": {},
   "outputs": [],
   "source": [
    "response = chain.invoke(query)"
   ]
  },
  {
   "cell_type": "code",
   "execution_count": 21,
   "id": "070f5329",
   "metadata": {},
   "outputs": [
    {
     "data": {
      "text/plain": [
       "'The Valorant agents got their powers from a cataclysmic event known as the First Light, which struck Earth around 2039. This event bathed the planet in a powerful substance called Radianite, unlocking extraordinary abilities in some individuals.'"
      ]
     },
     "execution_count": 21,
     "metadata": {},
     "output_type": "execute_result"
    }
   ],
   "source": [
    "response"
   ]
  },
  {
   "cell_type": "code",
   "execution_count": 22,
   "id": "7a32bbda",
   "metadata": {},
   "outputs": [],
   "source": [
    "vectorstore_db.save_local(\"valorant_agents_db\")"
   ]
  },
  {
   "cell_type": "code",
   "execution_count": null,
   "id": "b4b56cbb",
   "metadata": {},
   "outputs": [],
   "source": []
  }
 ],
 "metadata": {
  "kernelspec": {
   "display_name": "section_6",
   "language": "python",
   "name": "python3"
  },
  "language_info": {
   "codemirror_mode": {
    "name": "ipython",
    "version": 3
   },
   "file_extension": ".py",
   "mimetype": "text/x-python",
   "name": "python",
   "nbconvert_exporter": "python",
   "pygments_lexer": "ipython3",
   "version": "3.10.17"
  }
 },
 "nbformat": 4,
 "nbformat_minor": 5
}
