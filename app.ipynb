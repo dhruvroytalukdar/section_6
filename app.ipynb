{
 "cells": [
  {
   "cell_type": "markdown",
   "id": "cb527d58",
   "metadata": {},
   "source": [
    "### Simple GEN-AI app using Langchain"
   ]
  },
  {
   "cell_type": "markdown",
   "id": "e6330dd3",
   "metadata": {},
   "source": [
    "Load all the environment variables"
   ]
  },
  {
   "cell_type": "code",
   "execution_count": 26,
   "id": "1deb0f1f",
   "metadata": {},
   "outputs": [],
   "source": [
    "import os\n",
    "from dotenv import load_dotenv\n",
    "load_dotenv()\n",
    "\n",
    "os.environ[\"LANGSMITH_API_KEY\"] = os.getenv(\"LANGSMITH_API_KEY\")\n",
    "os.environ[\"LANGSMITH_TRACING\"] = \"true\"\n",
    "os.environ[\"LANGSMITH_PROJECT\"] = os.getenv(\"LANGSMITH_PROJECT\")\n",
    "os.environ[\"LANGSMITH_ENDPOINT\"] = os.getenv(\"LANGSMITH_ENDPOINT\")"
   ]
  },
  {
   "cell_type": "markdown",
   "id": "d0d69a6a",
   "metadata": {},
   "source": [
    "Scrape data from a website"
   ]
  },
  {
   "cell_type": "code",
   "execution_count": 27,
   "id": "62eb6794",
   "metadata": {},
   "outputs": [],
   "source": [
    "from langchain_community.document_loaders import WebBaseLoader\n",
    "import bs4\n",
    "\n",
    "class_label = \"beebom-single-content-container\"\n",
    "web_url = \"https://beebom.com/valorant-characters-agents-abilities\"\n",
    "\n",
    "loader = WebBaseLoader(web_paths=[web_url],\n",
    "                bs_kwargs={\n",
    "                    \"parse_only\": bs4.SoupStrainer(class_=class_label),\n",
    "                })\n",
    "docs = loader.load()"
   ]
  },
  {
   "cell_type": "markdown",
   "id": "2d68fa0d",
   "metadata": {},
   "source": [
    "Divide the raw data from the website into chunks"
   ]
  },
  {
   "cell_type": "code",
   "execution_count": 28,
   "id": "bd95ac91",
   "metadata": {},
   "outputs": [],
   "source": [
    "from langchain_text_splitters import RecursiveCharacterTextSplitter\n",
    "\n",
    "text_splitter = RecursiveCharacterTextSplitter(\n",
    "    chunk_size=1000,\n",
    "    chunk_overlap=200,\n",
    "    length_function=len,\n",
    ")\n",
    "\n",
    "splitted_docs = text_splitter.split_documents(docs)"
   ]
  },
  {
   "cell_type": "markdown",
   "id": "12cdf806",
   "metadata": {},
   "source": [
    "Generate embeddings of the documents"
   ]
  },
  {
   "cell_type": "code",
   "execution_count": 29,
   "id": "d73accbd",
   "metadata": {},
   "outputs": [],
   "source": [
    "from langchain_huggingface import HuggingFaceEmbeddings\n",
    "\n",
    "EMBEDDING_MODEL = \"BAAI/bge-small-en-v1.5\"\n",
    "embedder = HuggingFaceEmbeddings(\n",
    "    model_name=EMBEDDING_MODEL,\n",
    "    multi_process=True,\n",
    "    model_kwargs={\n",
    "        \"device\": \"cuda\",\n",
    "    },\n",
    "    encode_kwargs={\n",
    "        \"normalize_embeddings\": True,\n",
    "    }\n",
    ")"
   ]
  },
  {
   "cell_type": "markdown",
   "id": "6119fc52",
   "metadata": {},
   "source": [
    "Store the embeddings in the vector database FAISS"
   ]
  },
  {
   "cell_type": "code",
   "execution_count": 30,
   "id": "fdf721be",
   "metadata": {},
   "outputs": [],
   "source": [
    "from langchain_community.vectorstores import FAISS\n",
    "\n",
    "vectorstore_db = FAISS.from_documents(\n",
    "    splitted_docs,\n",
    "    embedder\n",
    ")"
   ]
  },
  {
   "cell_type": "markdown",
   "id": "a452f414",
   "metadata": {},
   "source": [
    "Query the vectorstore DB"
   ]
  },
  {
   "cell_type": "code",
   "execution_count": 31,
   "id": "99e6b72e",
   "metadata": {},
   "outputs": [],
   "source": [
    "query = \"What are the abilities of Killjoy?\"\n",
    "result = vectorstore_db.similarity_search(query, k=3)"
   ]
  },
  {
   "cell_type": "markdown",
   "id": "5d120f82",
   "metadata": {},
   "source": [
    "Add retrieval chain to the LLM"
   ]
  },
  {
   "cell_type": "code",
   "execution_count": 40,
   "id": "7ace831b",
   "metadata": {},
   "outputs": [],
   "source": [
    "from langchain.chains.combine_documents import create_stuff_documents_chain\n",
    "from langchain.chains import create_retrieval_chain\n",
    "\n",
    "from langchain_core.prompts import ChatPromptTemplate\n",
    "from langchain_groq import ChatGroq\n",
    "\n",
    "prompt = ChatPromptTemplate.from_template(\n",
    "    \"\"\"\n",
    "    You are a helpful assistant. Use the following pieces of context wrapped within <context>..</context> to answer the question.\n",
    "    <context>\n",
    "    {context}\n",
    "    </context>\n",
    "    Question: {input}\n",
    "    \"\"\"\n",
    ")\n",
    "\n",
    "llm = ChatGroq(\n",
    "    model_name=\"llama-3.3-70b-versatile\",\n",
    "    temperature=0.7\n",
    ")\n",
    "\n",
    "retriever = vectorstore_db.as_retriever(\n",
    "    search_type=\"similarity\",\n",
    "    search_kwargs={\n",
    "        \"k\": 5,\n",
    "    }\n",
    ")\n",
    "\n",
    "document_chain = create_stuff_documents_chain(\n",
    "    llm=llm,\n",
    "    prompt=prompt)\n",
    "\n",
    "\n",
    "retrieval_chain = create_retrieval_chain(retriever,document_chain)"
   ]
  },
  {
   "cell_type": "code",
   "execution_count": 41,
   "id": "ec9f2afd",
   "metadata": {},
   "outputs": [],
   "source": [
    "response = retrieval_chain.invoke({\"input\": query})"
   ]
  },
  {
   "cell_type": "code",
   "execution_count": 44,
   "id": "070f5329",
   "metadata": {},
   "outputs": [
    {
     "data": {
      "text/plain": [
       "\"According to the context, Killjoy's abilities are:\\n\\n1. Alarmbot (Q) - Puts a scanner bot in place that chases down an enemy and explodes on contact, making the affected enemy vulnerable for a brief duration.\\n2. Nanoswarm (C) - Places swarm grenades that create an energy field and cause damage to anyone inside the field when activated.\\n3. Turret (E) (Signature) - Puts a sentry gun in place that scans and inflicts damage on enemies within its 100-degree forward vision.\\n4. Lockdown (X) (Ultimate) - Initiates a lockdown by putting down a device that creates a massive energy dome, disarming and slowing down all enemies within the area for a brief duration.\""
      ]
     },
     "execution_count": 44,
     "metadata": {},
     "output_type": "execute_result"
    }
   ],
   "source": [
    "response['answer']"
   ]
  }
 ],
 "metadata": {
  "kernelspec": {
   "display_name": "section_6",
   "language": "python",
   "name": "python3"
  },
  "language_info": {
   "codemirror_mode": {
    "name": "ipython",
    "version": 3
   },
   "file_extension": ".py",
   "mimetype": "text/x-python",
   "name": "python",
   "nbconvert_exporter": "python",
   "pygments_lexer": "ipython3",
   "version": "3.10.17"
  }
 },
 "nbformat": 4,
 "nbformat_minor": 5
}
